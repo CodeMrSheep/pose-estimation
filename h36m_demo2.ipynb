{
 "cells": [
  {
   "cell_type": "code",
   "execution_count": 53,
   "metadata": {},
   "outputs": [],
   "source": [
    "import pandas as pd\n",
    "import numpy as np"
   ]
  },
  {
   "cell_type": "code",
   "execution_count": 54,
   "metadata": {},
   "outputs": [],
   "source": [
    "x1 = np.load(r'D:\\3d\\data_2d_h36m_gt.npz',allow_pickle=True)\n",
    "x2 = np.load(r'D:\\3d\\data_2d_h36m_cpn.npz',allow_pickle=True)"
   ]
  },
  {
   "cell_type": "code",
   "execution_count": 55,
   "metadata": {},
   "outputs": [
    {
     "name": "stdout",
     "output_type": "stream",
     "text": [
      "['positions_2d', 'metadata']\n",
      "['positions_2d', 'metadata']\n"
     ]
    }
   ],
   "source": [
    "print(x1.files)\n",
    "print(x2.files)"
   ]
  },
  {
   "cell_type": "code",
   "execution_count": 56,
   "metadata": {},
   "outputs": [],
   "source": [
    "data1 = x1['positions_2d']\n",
    "data2 = x1['metadata']\n",
    "data3 = x2['positions_2d']\n",
    "data4 = x2['metadata']"
   ]
  },
  {
   "cell_type": "code",
   "execution_count": 57,
   "metadata": {},
   "outputs": [
    {
     "data": {
      "text/plain": [
       "dict_keys(['S7', 'S9', 'S1', 'S6', 'S5', 'S8', 'S11'])"
      ]
     },
     "execution_count": 57,
     "metadata": {},
     "output_type": "execute_result"
    }
   ],
   "source": [
    "data1 = data1.item()\n",
    "data1.keys()"
   ]
  },
  {
   "cell_type": "code",
   "execution_count": 59,
   "metadata": {},
   "outputs": [],
   "source": [
    "data1_S1 = data1['S1']\n",
    "# data1_S6 = data1['S6']"
   ]
  },
  {
   "cell_type": "code",
   "execution_count": 60,
   "metadata": {},
   "outputs": [
    {
     "data": {
      "text/plain": [
       "dict_keys(['SittingDown', 'Smoking 1', 'Purchases', 'Purchases 1', 'Posing', 'Discussion 1', 'Greeting 1', 'WalkTogether', 'Photo', 'Sitting 2', 'Walking 1', 'Discussion', 'Directions', 'Waiting 1', 'WalkDog', 'Phoning 1', 'Greeting', 'Photo 1', 'Eating', 'Posing 1', 'WalkTogether 1', 'Smoking', 'Eating 2', 'Sitting 1', 'Walking', 'Phoning', 'SittingDown 2', 'Directions 1', 'Waiting', 'WalkDog 1'])"
      ]
     },
     "execution_count": 60,
     "metadata": {},
     "output_type": "execute_result"
    }
   ],
   "source": [
    "data1_S1.keys()"
   ]
  },
  {
   "cell_type": "code",
   "execution_count": 77,
   "metadata": {},
   "outputs": [],
   "source": [
    "data1_S1_Sitting1 = data1_S1['Walking 1']\n",
    "# data1_S1_Sitting2 = data1_S1['Sitting 2']\n",
    "data1_S1_Sitting1_0 =data1_S1_Sitting1[0]\n",
    "data1_S1_Sitting1_1 =data1_S1_Sitting1[1]\n",
    "# data1_S1_Sitting2_0 =data1_S1_Sitting2[0]\n",
    "\n",
    "# data1_S6_Sitting1 = data1_S6['Sitting 1']\n",
    "# data1_S6_Sitting2 = data1_S6['Sitting 2']\n",
    "# data1_S6_Sitting1_0 =data1_S6_Sitting1[0]\n",
    "# data1_S6_Sitting2_0 =data1_S6_Sitting2[0]"
   ]
  },
  {
   "cell_type": "code",
   "execution_count": 78,
   "metadata": {},
   "outputs": [
    {
     "data": {
      "text/plain": [
       "(3476, 17, 2)"
      ]
     },
     "execution_count": 78,
     "metadata": {},
     "output_type": "execute_result"
    }
   ],
   "source": [
    "data1_S1_Sitting1_0.shape"
   ]
  },
  {
   "cell_type": "code",
   "execution_count": 79,
   "metadata": {},
   "outputs": [],
   "source": [
    "# 得到每一个摄像头的动态视频，此处以sitting动作 摄像头0为例"
   ]
  },
  {
   "cell_type": "code",
   "execution_count": 80,
   "metadata": {},
   "outputs": [
    {
     "data": {
      "text/plain": [
       "(3476, 17, 2)"
      ]
     },
     "execution_count": 80,
     "metadata": {},
     "output_type": "execute_result"
    }
   ],
   "source": [
    "data1_S1_Sitting1_1.shape"
   ]
  },
  {
   "cell_type": "code",
   "execution_count": 81,
   "metadata": {},
   "outputs": [],
   "source": [
    "test_data0 =data1_S1_Sitting1_0[1]\n",
    "test_data1 =data1_S1_Sitting1_1[1]"
   ]
  },
  {
   "cell_type": "code",
   "execution_count": 82,
   "metadata": {},
   "outputs": [
    {
     "data": {
      "text/plain": [
       "(17, 2)"
      ]
     },
     "execution_count": 82,
     "metadata": {},
     "output_type": "execute_result"
    }
   ],
   "source": [
    "test_data1.shape"
   ]
  },
  {
   "cell_type": "code",
   "execution_count": 83,
   "metadata": {},
   "outputs": [],
   "source": [
    "# print(data1_S1_Sitting1_0.shape)\n",
    "# print(data1_S1_Sitting2_0.shape)\n",
    "# print(data1_S6_Sitting1_0.shape)\n",
    "# print(data1_S6_Sitting2_0.shape)"
   ]
  },
  {
   "cell_type": "code",
   "execution_count": 84,
   "metadata": {},
   "outputs": [],
   "source": [
    "# test_data0 =data1_S6_Sitting2[0]\n",
    "# test_data1 =data1_S6_Sitting2[1]"
   ]
  },
  {
   "cell_type": "code",
   "execution_count": 85,
   "metadata": {},
   "outputs": [],
   "source": [
    "# test_data00  =test_data0[0]\n",
    "# test_data10  =test_data1[0]"
   ]
  },
  {
   "cell_type": "code",
   "execution_count": 86,
   "metadata": {},
   "outputs": [],
   "source": [
    "# print(test_data00.shape)\n",
    "# print(test_data10.shape)"
   ]
  },
  {
   "cell_type": "code",
   "execution_count": 87,
   "metadata": {},
   "outputs": [
    {
     "name": "stdout",
     "output_type": "stream",
     "text": [
      "(2, 17)\n",
      "(2, 17)\n"
     ]
    }
   ],
   "source": [
    "test_data00 = test_data0.T\n",
    "test_data10 = test_data1.T\n",
    "print(test_data00.shape)\n",
    "print(test_data10.shape)"
   ]
  },
  {
   "cell_type": "code",
   "execution_count": 88,
   "metadata": {},
   "outputs": [],
   "source": [
    "np.savetxt(\"C:\\\\Users\\\\Tianh\\\\Desktop\\\\data0.txt\",test_data0)\n",
    "np.savetxt(\"C:\\\\Users\\\\Tianh\\\\Desktop\\\\data1.txt\",test_data1)"
   ]
  },
  {
   "cell_type": "code",
   "execution_count": 89,
   "metadata": {},
   "outputs": [],
   "source": [
    "from pandas import Series,DataFrame\n",
    "import pandas as pd\n",
    "import numpy as np\n",
    "import scipy.io\n",
    "import codecs\n",
    "import cv2\n",
    "import matplotlib.pyplot as plt"
   ]
  },
  {
   "cell_type": "code",
   "execution_count": 90,
   "metadata": {},
   "outputs": [],
   "source": [
    "def show_scatter(matrix):\n",
    "    fig = plt.figure()\n",
    "    ax = fig.add_subplot(111)\n",
    "    ax.scatter(np.array(matrix[0, :]), np.array(matrix[1, :]))\n",
    "    plt.show()"
   ]
  },
  {
   "cell_type": "code",
   "execution_count": 91,
   "metadata": {},
   "outputs": [],
   "source": [
    "dat1 = test_data00.T\n",
    "dat2 = test_data10.T"
   ]
  },
  {
   "cell_type": "code",
   "execution_count": 92,
   "metadata": {},
   "outputs": [
    {
     "name": "stdout",
     "output_type": "stream",
     "text": [
      "[[495.15094 435.67853]\n",
      " [519.7533  433.09818]\n",
      " [513.92523 526.3258 ]\n",
      " [513.2713  621.26776]\n",
      " [469.95242 438.3357 ]\n",
      " [475.11472 532.4909 ]\n",
      " [482.05597 628.1109 ]\n",
      " [501.7722  386.53116]\n",
      " [502.57703 330.75424]\n",
      " [504.01602 308.43854]\n",
      " [512.716   292.1847 ]\n",
      " [475.8659  347.23712]\n",
      " [461.34747 406.76712]\n",
      " [448.57562 459.8049 ]\n",
      " [528.70593 347.1575 ]\n",
      " [541.7607  405.5431 ]\n",
      " [540.0315  455.93613]]\n"
     ]
    }
   ],
   "source": [
    "print(dat1)"
   ]
  },
  {
   "cell_type": "code",
   "execution_count": 93,
   "metadata": {},
   "outputs": [
    {
     "name": "stdout",
     "output_type": "stream",
     "text": [
      "[[521.615   399.17706]\n",
      " [495.17117 396.71423]\n",
      " [504.40182 484.728  ]\n",
      " [512.3274  569.524  ]\n",
      " [548.36914 401.68814]\n",
      " [543.2188  490.76883]\n",
      " [543.11444 575.5532 ]\n",
      " [520.57446 350.69415]\n",
      " [522.38995 297.00723]\n",
      " [512.06793 275.7494 ]\n",
      " [518.0689  259.7125 ]\n",
      " [547.9748  313.5643 ]\n",
      " [562.2627  370.41357]\n",
      " [569.19104 422.5753 ]\n",
      " [497.29556 311.92215]\n",
      " [487.02414 366.70038]\n",
      " [478.70465 417.19595]]\n"
     ]
    }
   ],
   "source": [
    "print(dat2)"
   ]
  },
  {
   "cell_type": "code",
   "execution_count": 94,
   "metadata": {},
   "outputs": [
    {
     "data": {
      "image/png": "[encoded data removed]",
      "text/plain": [
       "<Figure size 432x288 with 1 Axes>"
      ]
     },
     "metadata": {
      "needs_background": "light"
     },
     "output_type": "display_data"
    },
    {
     "data": {
      "image/png": "[encoded data removed]",
      "text/plain": [
       "<Figure size 432x288 with 1 Axes>"
      ]
     },
     "metadata": {
      "needs_background": "light"
     },
     "output_type": "display_data"
    },
    {
     "data": {
      "text/plain": [
       "array([[<matplotlib.axes._subplots.AxesSubplot object at 0x0000015D966AF6A0>,\n",
       "        <matplotlib.axes._subplots.AxesSubplot object at 0x0000015D954CE4A8>],\n",
       "       [<matplotlib.axes._subplots.AxesSubplot object at 0x0000015D9545AB00>,\n",
       "        <matplotlib.axes._subplots.AxesSubplot object at 0x0000015D95457F28>]],\n",
       "      dtype=object)"
      ]
     },
     "execution_count": 94,
     "metadata": {},
     "output_type": "execute_result"
    },
    {
     "data": {
      "image/png": "[encoded data removed]",
      "text/plain": [
       "<Figure size 432x288 with 4 Axes>"
      ]
     },
     "metadata": {
      "needs_background": "light"
     },
     "output_type": "display_data"
    },
    {
     "data": {
      "image/png": "[encoded data removed]",
      "text/plain": [
       "<Figure size 432x288 with 4 Axes>"
      ]
     },
     "metadata": {
      "needs_background": "light"
     },
     "output_type": "display_data"
    }
   ],
   "source": [
    "show_scatter(dat1)\n",
    "show_scatter(dat2)\n",
    "x1  =pd.DataFrame(dat1)\n",
    "x2  =pd.DataFrame(dat2)\n",
    "pd.plotting.scatter_matrix(x1)\n",
    "pd.plotting.scatter_matrix(x2)"
   ]
  },
  {
   "cell_type": "code",
   "execution_count": 95,
   "metadata": {},
   "outputs": [],
   "source": [
    "E,mask = cv2.findEssentialMat(dat1,dat2)"
   ]
  },
  {
   "cell_type": "code",
   "execution_count": 96,
   "metadata": {},
   "outputs": [],
   "source": [
    "R1,R2,t = cv2.decomposeEssentialMat(E)"
   ]
  },
  {
   "cell_type": "code",
   "execution_count": 97,
   "metadata": {},
   "outputs": [
    {
     "name": "stdout",
     "output_type": "stream",
     "text": [
      "[[ 9.96870369e-01  7.90534903e-02  1.11374287e-04]\n",
      " [-7.90534763e-02  9.96870369e-01 -1.24524473e-04]\n",
      " [-1.20869820e-04  1.15330233e-04  9.99999986e-01]]\n",
      "----------\n",
      "[[ 9.97099310e-01  7.61113261e-02  1.78612785e-04]\n",
      " [ 7.61113047e-02 -9.97099320e-01  1.24096587e-04]\n",
      " [ 1.87539842e-04 -1.10142169e-04 -9.99999976e-01]]\n",
      "----------\n",
      "[[ 9.99998911e-01]\n",
      " [-1.47553319e-03]\n",
      " [ 3.34357887e-05]]\n"
     ]
    }
   ],
   "source": [
    "print(R1)\n",
    "print(\"----------\")\n",
    "print(R2)\n",
    "print(\"----------\")\n",
    "print(t)"
   ]
  },
  {
   "cell_type": "code",
   "execution_count": null,
   "metadata": {},
   "outputs": [],
   "source": [
    "# 需要相机矩阵才能进行三维重构"
   ]
  },
  {
   "cell_type": "code",
   "execution_count": null,
   "metadata": {},
   "outputs": [],
   "source": []
  },
  {
   "cell_type": "code",
   "execution_count": null,
   "metadata": {},
   "outputs": [],
   "source": []
  },
  {
   "cell_type": "code",
   "execution_count": null,
   "metadata": {},
   "outputs": [],
   "source": []
  },
  {
   "cell_type": "code",
   "execution_count": null,
   "metadata": {},
   "outputs": [],
   "source": []
  },
  {
   "cell_type": "code",
   "execution_count": null,
   "metadata": {},
   "outputs": [],
   "source": []
  },
  {
   "cell_type": "code",
   "execution_count": null,
   "metadata": {},
   "outputs": [],
   "source": []
  },
  {
   "cell_type": "code",
   "execution_count": 50,
   "metadata": {},
   "outputs": [],
   "source": [
    "data2 = data2.item()"
   ]
  },
  {
   "cell_type": "code",
   "execution_count": 43,
   "metadata": {},
   "outputs": [
    {
     "data": {
      "text/plain": [
       "dict_keys(['keypoints_symmetry', 'num_joints'])"
      ]
     },
     "execution_count": 43,
     "metadata": {},
     "output_type": "execute_result"
    }
   ],
   "source": [
    "data2.keys()"
   ]
  },
  {
   "cell_type": "code",
   "execution_count": 48,
   "metadata": {},
   "outputs": [],
   "source": [
    "data2_keypoints = data2['keypoints_symmetry']"
   ]
  },
  {
   "cell_type": "code",
   "execution_count": 49,
   "metadata": {},
   "outputs": [
    {
     "data": {
      "text/plain": [
       "[[4, 5, 6, 11, 12, 13], [1, 2, 3, 14, 15, 16]]"
      ]
     },
     "execution_count": 49,
     "metadata": {},
     "output_type": "execute_result"
    }
   ],
   "source": [
    "data2_keypoints"
   ]
  },
  {
   "cell_type": "code",
   "execution_count": 45,
   "metadata": {},
   "outputs": [],
   "source": [
    "data2_num_joints = data2['num_joints']"
   ]
  },
  {
   "cell_type": "code",
   "execution_count": 46,
   "metadata": {},
   "outputs": [
    {
     "data": {
      "text/plain": [
       "17"
      ]
     },
     "execution_count": 46,
     "metadata": {},
     "output_type": "execute_result"
    }
   ],
   "source": [
    "data2_num_joints"
   ]
  }
 ],
 "metadata": {
  "kernelspec": {
   "display_name": "Python [conda env:pytorch]",
   "language": "python",
   "name": "conda-env-pytorch-py"
  },
  "language_info": {
   "codemirror_mode": {
    "name": "ipython",
    "version": 3
   },
   "file_extension": ".py",
   "mimetype": "text/x-python",
   "name": "python",
   "nbconvert_exporter": "python",
   "pygments_lexer": "ipython3",
   "version": "3.5.6"
  }
 },
 "nbformat": 4,
 "nbformat_minor": 2
}
