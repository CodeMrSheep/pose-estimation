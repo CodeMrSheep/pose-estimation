{
 "cells": [
  {
   "cell_type": "code",
   "execution_count": 7,
   "metadata": {},
   "outputs": [],
   "source": [
    "import pandas as pd\n",
    "import numpy as np"
   ]
  },
  {
   "cell_type": "code",
   "execution_count": 8,
   "metadata": {},
   "outputs": [],
   "source": [
    "x1 = np.load(r'D:\\3d\\data_2d_h36m_gt.npz')\n",
    "x2 = np.load(r'D:\\3d\\data_2d_h36m_cpn.npz')"
   ]
  },
  {
   "cell_type": "code",
   "execution_count": 9,
   "metadata": {},
   "outputs": [
    {
     "name": "stdout",
     "output_type": "stream",
     "text": [
      "['positions_2d', 'metadata']\n",
      "['positions_2d', 'metadata']\n"
     ]
    }
   ],
   "source": [
    "print(x1.files)\n",
    "print(x2.files)"
   ]
  },
  {
   "cell_type": "code",
   "execution_count": 10,
   "metadata": {},
   "outputs": [],
   "source": [
    "data1 = x1['positions_2d']\n",
    "data2 = x1['metadata']\n",
    "data3 = x2['positions_2d']\n",
    "data4 = x2['metadata']"
   ]
  },
  {
   "cell_type": "code",
   "execution_count": 15,
   "metadata": {},
   "outputs": [],
   "source": [
    "data1 = data1.item()\n",
    "data1.keys()"
   ]
  },
  {
   "cell_type": "code",
   "execution_count": 36,
   "metadata": {},
   "outputs": [],
   "source": [
    "data1_S1 = data1['S1']\n",
    "data1_S6 = data1['S6']"
   ]
  },
  {
   "cell_type": "code",
   "execution_count": 19,
   "metadata": {},
   "outputs": [
    {
     "data": {
      "text/plain": [
       "dict_keys(['Purchases', 'WalkDog 1', 'Walking', 'Phoning 1', 'SittingDown 2', 'Eating', 'Discussion 1', 'WalkTogether', 'WalkTogether 1', 'Purchases 1', 'Walking 1', 'Directions', 'Photo 1', 'Sitting 1', 'Eating 2', 'Posing', 'Waiting 1', 'Smoking', 'Directions 1', 'Phoning', 'Sitting 2', 'SittingDown', 'Smoking 1', 'Greeting', 'WalkDog', 'Photo', 'Discussion', 'Greeting 1', 'Posing 1', 'Waiting'])"
      ]
     },
     "execution_count": 19,
     "metadata": {},
     "output_type": "execute_result"
    }
   ],
   "source": [
    "data1_S1.keys()"
   ]
  },
  {
   "cell_type": "code",
   "execution_count": 59,
   "metadata": {},
   "outputs": [],
   "source": [
    "data1_S1_Sitting1 = data1_S1['Sitting 1']\n",
    "data1_S1_Sitting2 = data1_S1['Sitting 2']\n",
    "data1_S1_Sitting1_0 =data1_S1_Sitting1[0]\n",
    "data1_S1_Sitting2_0 =data1_S1_Sitting2[0]\n",
    "\n",
    "data1_S6_Sitting1 = data1_S6['Sitting 1']\n",
    "data1_S6_Sitting2 = data1_S6['Sitting 2']\n",
    "data1_S6_Sitting1_0 =data1_S6_Sitting1[0]\n",
    "data1_S6_Sitting2_0 =data1_S6_Sitting2[0]"
   ]
  },
  {
   "cell_type": "code",
   "execution_count": 60,
   "metadata": {},
   "outputs": [
    {
     "name": "stdout",
     "output_type": "stream",
     "text": [
      "(3304, 17, 2)\n",
      "(2612, 17, 2)\n",
      "(1817, 17, 2)\n",
      "(1998, 17, 2)\n"
     ]
    }
   ],
   "source": [
    "print(data1_S1_Sitting1_0.shape)\n",
    "print(data1_S1_Sitting2_0.shape)\n",
    "print(data1_S6_Sitting1_0.shape)\n",
    "print(data1_S6_Sitting2_0.shape)"
   ]
  },
  {
   "cell_type": "code",
   "execution_count": 61,
   "metadata": {},
   "outputs": [],
   "source": [
    "test_data0 =data1_S6_Sitting2[0]\n",
    "test_data1 =data1_S6_Sitting2[1]"
   ]
  },
  {
   "cell_type": "code",
   "execution_count": 62,
   "metadata": {},
   "outputs": [],
   "source": [
    "test_data00  =test_data0[0]\n",
    "test_data10  =test_data1[0]"
   ]
  },
  {
   "cell_type": "code",
   "execution_count": 63,
   "metadata": {},
   "outputs": [
    {
     "name": "stdout",
     "output_type": "stream",
     "text": [
      "(17, 2)\n",
      "(17, 2)\n"
     ]
    }
   ],
   "source": [
    "print(test_data00.shape)\n",
    "print(test_data10.shape)"
   ]
  },
  {
   "cell_type": "code",
   "execution_count": 66,
   "metadata": {},
   "outputs": [
    {
     "name": "stdout",
     "output_type": "stream",
     "text": [
      "(2, 17)\n",
      "(2, 17)\n"
     ]
    }
   ],
   "source": [
    "test_data00 = test_data00.T\n",
    "test_data10 = test_data10.T\n",
    "print(test_data00.shape)\n",
    "print(test_data10.shape)"
   ]
  },
  {
   "cell_type": "code",
   "execution_count": 74,
   "metadata": {},
   "outputs": [],
   "source": [
    "np.savetxt(\"C:\\\\Users\\\\Tianh\\\\Desktop\\\\data0.txt\",test_data00)\n",
    "np.savetxt(\"C:\\\\Users\\\\Tianh\\\\Desktop\\\\data1.txt\",test_data10)"
   ]
  },
  {
   "cell_type": "code",
   "execution_count": 64,
   "metadata": {},
   "outputs": [],
   "source": [
    "from pandas import Series,DataFrame\n",
    "import pandas as pd\n",
    "import numpy as np\n",
    "import scipy.io\n",
    "import codecs\n",
    "import cv2\n",
    "import matplotlib.pyplot as plt"
   ]
  },
  {
   "cell_type": "code",
   "execution_count": 69,
   "metadata": {},
   "outputs": [],
   "source": [
    "def show_scatter(matrix):\n",
    "    fig = plt.figure()\n",
    "    ax = fig.add_subplot(111)\n",
    "    ax.scatter(np.array(matrix[0, :]), np.array(matrix[1, :]))\n",
    "    plt.show()"
   ]
  },
  {
   "cell_type": "code",
   "execution_count": 67,
   "metadata": {},
   "outputs": [],
   "source": [
    "dat1 = test_data00.T\n",
    "dat2 = test_data10.T"
   ]
  },
  {
   "cell_type": "code",
   "execution_count": 70,
   "metadata": {},
   "outputs": [
    {
     "data": {
      "image/png": "[encoded data removed]",
      "text/plain": [
       "<Figure size 432x288 with 1 Axes>"
      ]
     },
     "metadata": {
      "needs_background": "light"
     },
     "output_type": "display_data"
    },
    {
     "data": {
      "image/png": "[encoded data removed]",
      "text/plain": [
       "<Figure size 432x288 with 1 Axes>"
      ]
     },
     "metadata": {
      "needs_background": "light"
     },
     "output_type": "display_data"
    },
    {
     "data": {
      "text/plain": [
       "array([[<matplotlib.axes._subplots.AxesSubplot object at 0x00000249670D9080>,\n",
       "        <matplotlib.axes._subplots.AxesSubplot object at 0x0000024972EDDC88>],\n",
       "       [<matplotlib.axes._subplots.AxesSubplot object at 0x0000024972EFA240>,\n",
       "        <matplotlib.axes._subplots.AxesSubplot object at 0x0000024972F127B8>]],\n",
       "      dtype=object)"
      ]
     },
     "execution_count": 70,
     "metadata": {},
     "output_type": "execute_result"
    },
    {
     "data": {
      "image/png": "[encoded data removed]",
      "text/plain": [
       "<Figure size 432x288 with 4 Axes>"
      ]
     },
     "metadata": {
      "needs_background": "light"
     },
     "output_type": "display_data"
    },
    {
     "data": {
      "image/png": "[encoded data removed]",
      "text/plain": [
       "<Figure size 432x288 with 4 Axes>"
      ]
     },
     "metadata": {
      "needs_background": "light"
     },
     "output_type": "display_data"
    }
   ],
   "source": [
    "show_scatter(dat1)\n",
    "show_scatter(dat2)\n",
    "x1  =pd.DataFrame(dat1)\n",
    "x2  =pd.DataFrame(dat2)\n",
    "pd.plotting.scatter_matrix(x1)\n",
    "pd.plotting.scatter_matrix(x2)"
   ]
  },
  {
   "cell_type": "code",
   "execution_count": 71,
   "metadata": {},
   "outputs": [],
   "source": [
    "E,mask = cv2.findEssentialMat(dat1,dat2)"
   ]
  },
  {
   "cell_type": "code",
   "execution_count": 72,
   "metadata": {},
   "outputs": [],
   "source": [
    "R1,R2,t = cv2.decomposeEssentialMat(E)"
   ]
  },
  {
   "cell_type": "code",
   "execution_count": 73,
   "metadata": {},
   "outputs": [
    {
     "name": "stdout",
     "output_type": "stream",
     "text": [
      "[[ 9.70194448e-01 -2.42326968e-01 -6.11026057e-04]\n",
      " [-2.42326835e-01 -9.70194632e-01  2.84124306e-04]\n",
      " [-6.61665182e-04 -1.27587814e-04 -9.99999773e-01]]\n",
      "----------\n",
      "[[ 9.85698931e-01  1.68515234e-01  4.83295605e-04]\n",
      " [-1.68515125e-01  9.85699034e-01 -2.57294096e-04]\n",
      " [-5.19741986e-04  1.72171896e-04  9.99999850e-01]]\n",
      "----------\n",
      "[[ 9.78642823e-01]\n",
      " [-2.05567205e-01]\n",
      " [-5.91124065e-04]]\n"
     ]
    }
   ],
   "source": [
    "print(R1)\n",
    "print(\"----------\")\n",
    "print(R2)\n",
    "print(\"----------\")\n",
    "print(t)"
   ]
  },
  {
   "cell_type": "code",
   "execution_count": null,
   "metadata": {},
   "outputs": [],
   "source": [
    "# 需要相机矩阵才能进行三维重构"
   ]
  },
  {
   "cell_type": "code",
   "execution_count": null,
   "metadata": {},
   "outputs": [],
   "source": []
  },
  {
   "cell_type": "code",
   "execution_count": null,
   "metadata": {},
   "outputs": [],
   "source": []
  },
  {
   "cell_type": "code",
   "execution_count": null,
   "metadata": {},
   "outputs": [],
   "source": []
  },
  {
   "cell_type": "code",
   "execution_count": null,
   "metadata": {},
   "outputs": [],
   "source": []
  },
  {
   "cell_type": "code",
   "execution_count": null,
   "metadata": {},
   "outputs": [],
   "source": []
  },
  {
   "cell_type": "code",
   "execution_count": null,
   "metadata": {},
   "outputs": [],
   "source": []
  },
  {
   "cell_type": "code",
   "execution_count": 50,
   "metadata": {},
   "outputs": [],
   "source": [
    "data2 = data2.item()"
   ]
  },
  {
   "cell_type": "code",
   "execution_count": 43,
   "metadata": {},
   "outputs": [
    {
     "data": {
      "text/plain": [
       "dict_keys(['keypoints_symmetry', 'num_joints'])"
      ]
     },
     "execution_count": 43,
     "metadata": {},
     "output_type": "execute_result"
    }
   ],
   "source": [
    "data2.keys()"
   ]
  },
  {
   "cell_type": "code",
   "execution_count": 48,
   "metadata": {},
   "outputs": [],
   "source": [
    "data2_keypoints = data2['keypoints_symmetry']"
   ]
  },
  {
   "cell_type": "code",
   "execution_count": 49,
   "metadata": {},
   "outputs": [
    {
     "data": {
      "text/plain": [
       "[[4, 5, 6, 11, 12, 13], [1, 2, 3, 14, 15, 16]]"
      ]
     },
     "execution_count": 49,
     "metadata": {},
     "output_type": "execute_result"
    }
   ],
   "source": [
    "data2_keypoints"
   ]
  },
  {
   "cell_type": "code",
   "execution_count": 45,
   "metadata": {},
   "outputs": [],
   "source": [
    "data2_num_joints = data2['num_joints']"
   ]
  },
  {
   "cell_type": "code",
   "execution_count": 46,
   "metadata": {},
   "outputs": [
    {
     "data": {
      "text/plain": [
       "17"
      ]
     },
     "execution_count": 46,
     "metadata": {},
     "output_type": "execute_result"
    }
   ],
   "source": [
    "data2_num_joints"
   ]
  }
 ],
 "metadata": {
  "kernelspec": {
   "display_name": "Python [conda env:pytorch]",
   "language": "python",
   "name": "conda-env-pytorch-py"
  },
  "language_info": {
   "codemirror_mode": {
    "name": "ipython",
    "version": 3
   },
   "file_extension": ".py",
   "mimetype": "text/x-python",
   "name": "python",
   "nbconvert_exporter": "python",
   "pygments_lexer": "ipython3",
   "version": "3.5.6"
  }
 },
 "nbformat": 4,
 "nbformat_minor": 2
}
